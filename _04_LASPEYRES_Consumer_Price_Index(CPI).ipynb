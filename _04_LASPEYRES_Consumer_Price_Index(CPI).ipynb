{
 "cells": [
  {
   "cell_type": "markdown",
   "id": "c891eab6",
   "metadata": {},
   "source": [
    "## LASPEYRES INDEX\n",
    "\n",
    "### What is it ?\n",
    "\n",
    "Laspeyres Index is a methodology to calculate the consumer price index by measuring the change in the price of the basket of goods to the base year. \n",
    "\n",
    "It was invented by Etienne Laspeyres, an economist from Germany to analyze the changes in the prices as compared to the base year period.\n",
    "\n"
   ]
  },
  {
   "cell_type": "code",
   "execution_count": 1,
   "id": "0db44e1c",
   "metadata": {},
   "outputs": [],
   "source": [
    "# Consider the base year as 2015.\n",
    "\n",
    "# Current year (Base)\n",
    "y1 = 2015 \n",
    "\n",
    "\n",
    "# Last year\n",
    "y2 = 2014\n"
   ]
  },
  {
   "cell_type": "markdown",
   "id": "151b69db",
   "metadata": {},
   "source": [
    "#### Problem 1 - CPI for a basket of commodities \n",
    "(use excel datasheet below)"
   ]
  },
  {
   "cell_type": "code",
   "execution_count": 2,
   "id": "5632e6e7",
   "metadata": {},
   "outputs": [
    {
     "data": {
      "text/html": [
       "<div>\n",
       "<style scoped>\n",
       "    .dataframe tbody tr th:only-of-type {\n",
       "        vertical-align: middle;\n",
       "    }\n",
       "\n",
       "    .dataframe tbody tr th {\n",
       "        vertical-align: top;\n",
       "    }\n",
       "\n",
       "    .dataframe thead th {\n",
       "        text-align: right;\n",
       "    }\n",
       "</style>\n",
       "<table border=\"1\" class=\"dataframe\">\n",
       "  <thead>\n",
       "    <tr style=\"text-align: right;\">\n",
       "      <th></th>\n",
       "      <th>Product</th>\n",
       "      <th>p1</th>\n",
       "      <th>p2</th>\n",
       "      <th>q1</th>\n",
       "      <th>q2</th>\n",
       "    </tr>\n",
       "  </thead>\n",
       "  <tbody>\n",
       "    <tr>\n",
       "      <th>0</th>\n",
       "      <td>Basketball</td>\n",
       "      <td>49.9</td>\n",
       "      <td>59.9</td>\n",
       "      <td>100.0</td>\n",
       "      <td>80.0</td>\n",
       "    </tr>\n",
       "    <tr>\n",
       "      <th>1</th>\n",
       "      <td>Soccer Ball</td>\n",
       "      <td>62.0</td>\n",
       "      <td>59.9</td>\n",
       "      <td>230.0</td>\n",
       "      <td>310.0</td>\n",
       "    </tr>\n",
       "    <tr>\n",
       "      <th>2</th>\n",
       "      <td>Football shoes</td>\n",
       "      <td>120.0</td>\n",
       "      <td>135.0</td>\n",
       "      <td>130.0</td>\n",
       "      <td>140.0</td>\n",
       "    </tr>\n",
       "    <tr>\n",
       "      <th>3</th>\n",
       "      <td>Tennis Racquets</td>\n",
       "      <td>240.0</td>\n",
       "      <td>280.0</td>\n",
       "      <td>20.0</td>\n",
       "      <td>22.0</td>\n",
       "    </tr>\n",
       "  </tbody>\n",
       "</table>\n",
       "</div>"
      ],
      "text/plain": [
       "           Product     p1     p2     q1     q2\n",
       "0       Basketball   49.9   59.9  100.0   80.0\n",
       "1      Soccer Ball   62.0   59.9  230.0  310.0\n",
       "2   Football shoes  120.0  135.0  130.0  140.0\n",
       "3  Tennis Racquets  240.0  280.0   20.0   22.0"
      ]
     },
     "execution_count": 2,
     "metadata": {},
     "output_type": "execute_result"
    }
   ],
   "source": [
    "import pandas as pd\n",
    "\n",
    "df = pd.read_excel('00_commodities_basket.xlsx')\n",
    "#df.info()\n",
    "df"
   ]
  },
  {
   "cell_type": "code",
   "execution_count": 3,
   "id": "5a5295cd",
   "metadata": {},
   "outputs": [
    {
     "data": {
      "text/plain": [
       "0         Basketball\n",
       "1        Soccer Ball\n",
       "2     Football shoes\n",
       "3    Tennis Racquets\n",
       "Name: Product, dtype: object"
      ]
     },
     "metadata": {},
     "output_type": "display_data"
    }
   ],
   "source": [
    "display(df['Product']) "
   ]
  },
  {
   "cell_type": "code",
   "execution_count": 4,
   "id": "a1f28f2e",
   "metadata": {},
   "outputs": [
    {
     "data": {
      "text/plain": [
       "'Basketball'"
      ]
     },
     "execution_count": 4,
     "metadata": {},
     "output_type": "execute_result"
    }
   ],
   "source": [
    "df['Product'][0]"
   ]
  },
  {
   "cell_type": "code",
   "execution_count": 5,
   "id": "3701629c",
   "metadata": {},
   "outputs": [
    {
     "data": {
      "text/plain": [
       "49.9"
      ]
     },
     "execution_count": 5,
     "metadata": {},
     "output_type": "execute_result"
    }
   ],
   "source": [
    "df.loc[0, 'p1']"
   ]
  },
  {
   "cell_type": "code",
   "execution_count": 6,
   "id": "2237f0f0",
   "metadata": {},
   "outputs": [
    {
     "data": {
      "text/plain": [
       "'Soccer Ball'"
      ]
     },
     "execution_count": 6,
     "metadata": {},
     "output_type": "execute_result"
    }
   ],
   "source": [
    "df['Product'][1]"
   ]
  },
  {
   "cell_type": "code",
   "execution_count": 7,
   "id": "1f58061c",
   "metadata": {},
   "outputs": [
    {
     "data": {
      "text/plain": [
       "62.0"
      ]
     },
     "execution_count": 7,
     "metadata": {},
     "output_type": "execute_result"
    }
   ],
   "source": [
    "df.loc[1, 'p1']"
   ]
  },
  {
   "cell_type": "code",
   "execution_count": 8,
   "id": "d17eff4d",
   "metadata": {},
   "outputs": [],
   "source": [
    "df['p1*q1'] = df['p1']*df['q1']"
   ]
  },
  {
   "cell_type": "code",
   "execution_count": 9,
   "id": "361dd5ef",
   "metadata": {},
   "outputs": [],
   "source": [
    "df['p1*q2'] = df['p1']*df['q2']"
   ]
  },
  {
   "cell_type": "code",
   "execution_count": 10,
   "id": "142f14bb",
   "metadata": {},
   "outputs": [],
   "source": [
    "df['p2*q1'] = df['p2']*df['q1']"
   ]
  },
  {
   "cell_type": "code",
   "execution_count": 11,
   "id": "dc631fce",
   "metadata": {},
   "outputs": [],
   "source": [
    "df['p2*q2'] = df['p2']*df['q2']"
   ]
  },
  {
   "cell_type": "code",
   "execution_count": 12,
   "id": "e1832bff",
   "metadata": {},
   "outputs": [
    {
     "data": {
      "text/html": [
       "<div>\n",
       "<style scoped>\n",
       "    .dataframe tbody tr th:only-of-type {\n",
       "        vertical-align: middle;\n",
       "    }\n",
       "\n",
       "    .dataframe tbody tr th {\n",
       "        vertical-align: top;\n",
       "    }\n",
       "\n",
       "    .dataframe thead th {\n",
       "        text-align: right;\n",
       "    }\n",
       "</style>\n",
       "<table border=\"1\" class=\"dataframe\">\n",
       "  <thead>\n",
       "    <tr style=\"text-align: right;\">\n",
       "      <th></th>\n",
       "      <th>Product</th>\n",
       "      <th>p1</th>\n",
       "      <th>p2</th>\n",
       "      <th>q1</th>\n",
       "      <th>q2</th>\n",
       "      <th>p1*q1</th>\n",
       "      <th>p1*q2</th>\n",
       "      <th>p2*q1</th>\n",
       "      <th>p2*q2</th>\n",
       "    </tr>\n",
       "  </thead>\n",
       "  <tbody>\n",
       "    <tr>\n",
       "      <th>0</th>\n",
       "      <td>Basketball</td>\n",
       "      <td>49.9</td>\n",
       "      <td>59.9</td>\n",
       "      <td>100.0</td>\n",
       "      <td>80.0</td>\n",
       "      <td>4990.0</td>\n",
       "      <td>3992.0</td>\n",
       "      <td>5990.0</td>\n",
       "      <td>4792.0</td>\n",
       "    </tr>\n",
       "    <tr>\n",
       "      <th>1</th>\n",
       "      <td>Soccer Ball</td>\n",
       "      <td>62.0</td>\n",
       "      <td>59.9</td>\n",
       "      <td>230.0</td>\n",
       "      <td>310.0</td>\n",
       "      <td>14260.0</td>\n",
       "      <td>19220.0</td>\n",
       "      <td>13777.0</td>\n",
       "      <td>18569.0</td>\n",
       "    </tr>\n",
       "    <tr>\n",
       "      <th>2</th>\n",
       "      <td>Football shoes</td>\n",
       "      <td>120.0</td>\n",
       "      <td>135.0</td>\n",
       "      <td>130.0</td>\n",
       "      <td>140.0</td>\n",
       "      <td>15600.0</td>\n",
       "      <td>16800.0</td>\n",
       "      <td>17550.0</td>\n",
       "      <td>18900.0</td>\n",
       "    </tr>\n",
       "    <tr>\n",
       "      <th>3</th>\n",
       "      <td>Tennis Racquets</td>\n",
       "      <td>240.0</td>\n",
       "      <td>280.0</td>\n",
       "      <td>20.0</td>\n",
       "      <td>22.0</td>\n",
       "      <td>4800.0</td>\n",
       "      <td>5280.0</td>\n",
       "      <td>5600.0</td>\n",
       "      <td>6160.0</td>\n",
       "    </tr>\n",
       "  </tbody>\n",
       "</table>\n",
       "</div>"
      ],
      "text/plain": [
       "           Product     p1     p2     q1     q2    p1*q1    p1*q2    p2*q1  \\\n",
       "0       Basketball   49.9   59.9  100.0   80.0   4990.0   3992.0   5990.0   \n",
       "1      Soccer Ball   62.0   59.9  230.0  310.0  14260.0  19220.0  13777.0   \n",
       "2   Football shoes  120.0  135.0  130.0  140.0  15600.0  16800.0  17550.0   \n",
       "3  Tennis Racquets  240.0  280.0   20.0   22.0   4800.0   5280.0   5600.0   \n",
       "\n",
       "     p2*q2  \n",
       "0   4792.0  \n",
       "1  18569.0  \n",
       "2  18900.0  \n",
       "3   6160.0  "
      ]
     },
     "execution_count": 12,
     "metadata": {},
     "output_type": "execute_result"
    }
   ],
   "source": [
    "df"
   ]
  },
  {
   "cell_type": "code",
   "execution_count": 13,
   "id": "2ecaa3bd",
   "metadata": {},
   "outputs": [],
   "source": [
    "df.drop(['p1', 'p2', 'q1','q2'], axis=1, inplace=True)\n",
    "     "
   ]
  },
  {
   "cell_type": "code",
   "execution_count": 14,
   "id": "2c2d9a20",
   "metadata": {},
   "outputs": [
    {
     "data": {
      "text/html": [
       "<div>\n",
       "<style scoped>\n",
       "    .dataframe tbody tr th:only-of-type {\n",
       "        vertical-align: middle;\n",
       "    }\n",
       "\n",
       "    .dataframe tbody tr th {\n",
       "        vertical-align: top;\n",
       "    }\n",
       "\n",
       "    .dataframe thead th {\n",
       "        text-align: right;\n",
       "    }\n",
       "</style>\n",
       "<table border=\"1\" class=\"dataframe\">\n",
       "  <thead>\n",
       "    <tr style=\"text-align: right;\">\n",
       "      <th></th>\n",
       "      <th>p1*q1</th>\n",
       "      <th>p1*q2</th>\n",
       "      <th>p2*q1</th>\n",
       "      <th>p2*q2</th>\n",
       "    </tr>\n",
       "  </thead>\n",
       "  <tbody>\n",
       "    <tr>\n",
       "      <th>0</th>\n",
       "      <td>4990.0</td>\n",
       "      <td>3992.0</td>\n",
       "      <td>5990.0</td>\n",
       "      <td>4792.0</td>\n",
       "    </tr>\n",
       "    <tr>\n",
       "      <th>1</th>\n",
       "      <td>14260.0</td>\n",
       "      <td>19220.0</td>\n",
       "      <td>13777.0</td>\n",
       "      <td>18569.0</td>\n",
       "    </tr>\n",
       "    <tr>\n",
       "      <th>2</th>\n",
       "      <td>15600.0</td>\n",
       "      <td>16800.0</td>\n",
       "      <td>17550.0</td>\n",
       "      <td>18900.0</td>\n",
       "    </tr>\n",
       "    <tr>\n",
       "      <th>3</th>\n",
       "      <td>4800.0</td>\n",
       "      <td>5280.0</td>\n",
       "      <td>5600.0</td>\n",
       "      <td>6160.0</td>\n",
       "    </tr>\n",
       "  </tbody>\n",
       "</table>\n",
       "</div>"
      ],
      "text/plain": [
       "     p1*q1    p1*q2    p2*q1    p2*q2\n",
       "0   4990.0   3992.0   5990.0   4792.0\n",
       "1  14260.0  19220.0  13777.0  18569.0\n",
       "2  15600.0  16800.0  17550.0  18900.0\n",
       "3   4800.0   5280.0   5600.0   6160.0"
      ]
     },
     "execution_count": 14,
     "metadata": {},
     "output_type": "execute_result"
    }
   ],
   "source": [
    "# How to change the order of DataFrame columns? \n",
    "# https://stackoverflow.com/questions/13148429/how-to-change-the-order-of-dataframe-columns\n",
    "\n",
    "df = df[['p1*q1','p1*q2','p2*q1','p2*q2']]\n",
    "df"
   ]
  },
  {
   "cell_type": "code",
   "execution_count": 15,
   "id": "85eacb1f",
   "metadata": {},
   "outputs": [
    {
     "data": {
      "text/plain": [
       "4"
      ]
     },
     "execution_count": 15,
     "metadata": {},
     "output_type": "execute_result"
    }
   ],
   "source": [
    "count_rows = df.shape[0]\n",
    "count_rows"
   ]
  },
  {
   "cell_type": "code",
   "execution_count": 16,
   "id": "c6bf189e",
   "metadata": {},
   "outputs": [],
   "source": [
    "total = df.sum()"
   ]
  },
  {
   "cell_type": "code",
   "execution_count": 17,
   "id": "cf814b56",
   "metadata": {},
   "outputs": [],
   "source": [
    "new_row = pd.Series(data=total, name='Total')"
   ]
  },
  {
   "cell_type": "code",
   "execution_count": 18,
   "id": "7e243b6f",
   "metadata": {},
   "outputs": [],
   "source": [
    "df = df.append(new_row, ignore_index=False)"
   ]
  },
  {
   "cell_type": "code",
   "execution_count": 19,
   "id": "56e4a1ba",
   "metadata": {},
   "outputs": [],
   "source": [
    "df.loc['Total', 'Product'] = \" ------- \""
   ]
  },
  {
   "cell_type": "code",
   "execution_count": 20,
   "id": "86ff3184",
   "metadata": {},
   "outputs": [
    {
     "data": {
      "text/html": [
       "<div>\n",
       "<style scoped>\n",
       "    .dataframe tbody tr th:only-of-type {\n",
       "        vertical-align: middle;\n",
       "    }\n",
       "\n",
       "    .dataframe tbody tr th {\n",
       "        vertical-align: top;\n",
       "    }\n",
       "\n",
       "    .dataframe thead th {\n",
       "        text-align: right;\n",
       "    }\n",
       "</style>\n",
       "<table border=\"1\" class=\"dataframe\">\n",
       "  <thead>\n",
       "    <tr style=\"text-align: right;\">\n",
       "      <th></th>\n",
       "      <th>p1*q1</th>\n",
       "      <th>p1*q2</th>\n",
       "      <th>p2*q1</th>\n",
       "      <th>p2*q2</th>\n",
       "    </tr>\n",
       "  </thead>\n",
       "  <tbody>\n",
       "    <tr>\n",
       "      <th>0</th>\n",
       "      <td>4990.0</td>\n",
       "      <td>3992.0</td>\n",
       "      <td>5990.0</td>\n",
       "      <td>4792.0</td>\n",
       "    </tr>\n",
       "    <tr>\n",
       "      <th>1</th>\n",
       "      <td>14260.0</td>\n",
       "      <td>19220.0</td>\n",
       "      <td>13777.0</td>\n",
       "      <td>18569.0</td>\n",
       "    </tr>\n",
       "    <tr>\n",
       "      <th>2</th>\n",
       "      <td>15600.0</td>\n",
       "      <td>16800.0</td>\n",
       "      <td>17550.0</td>\n",
       "      <td>18900.0</td>\n",
       "    </tr>\n",
       "    <tr>\n",
       "      <th>3</th>\n",
       "      <td>4800.0</td>\n",
       "      <td>5280.0</td>\n",
       "      <td>5600.0</td>\n",
       "      <td>6160.0</td>\n",
       "    </tr>\n",
       "    <tr>\n",
       "      <th>Total</th>\n",
       "      <td>39650.0</td>\n",
       "      <td>45292.0</td>\n",
       "      <td>42917.0</td>\n",
       "      <td>48421.0</td>\n",
       "    </tr>\n",
       "  </tbody>\n",
       "</table>\n",
       "</div>"
      ],
      "text/plain": [
       "         p1*q1    p1*q2    p2*q1    p2*q2\n",
       "0       4990.0   3992.0   5990.0   4792.0\n",
       "1      14260.0  19220.0  13777.0  18569.0\n",
       "2      15600.0  16800.0  17550.0  18900.0\n",
       "3       4800.0   5280.0   5600.0   6160.0\n",
       "Total  39650.0  45292.0  42917.0  48421.0"
      ]
     },
     "execution_count": 20,
     "metadata": {},
     "output_type": "execute_result"
    }
   ],
   "source": [
    "df = df.drop('Product', axis=1)\n",
    "df"
   ]
  },
  {
   "cell_type": "code",
   "execution_count": 21,
   "id": "582d3a65",
   "metadata": {},
   "outputs": [],
   "source": [
    "total = df.iloc[-1:]"
   ]
  },
  {
   "cell_type": "code",
   "execution_count": 22,
   "id": "7ddbc3a5",
   "metadata": {},
   "outputs": [
    {
     "data": {
      "text/html": [
       "<div>\n",
       "<style scoped>\n",
       "    .dataframe tbody tr th:only-of-type {\n",
       "        vertical-align: middle;\n",
       "    }\n",
       "\n",
       "    .dataframe tbody tr th {\n",
       "        vertical-align: top;\n",
       "    }\n",
       "\n",
       "    .dataframe thead th {\n",
       "        text-align: right;\n",
       "    }\n",
       "</style>\n",
       "<table border=\"1\" class=\"dataframe\">\n",
       "  <thead>\n",
       "    <tr style=\"text-align: right;\">\n",
       "      <th></th>\n",
       "      <th>p1*q1</th>\n",
       "      <th>p1*q2</th>\n",
       "      <th>p2*q1</th>\n",
       "      <th>p2*q2</th>\n",
       "    </tr>\n",
       "  </thead>\n",
       "  <tbody>\n",
       "    <tr>\n",
       "      <th>Total</th>\n",
       "      <td>39650.0</td>\n",
       "      <td>45292.0</td>\n",
       "      <td>42917.0</td>\n",
       "      <td>48421.0</td>\n",
       "    </tr>\n",
       "  </tbody>\n",
       "</table>\n",
       "</div>"
      ],
      "text/plain": [
       "         p1*q1    p1*q2    p2*q1    p2*q2\n",
       "Total  39650.0  45292.0  42917.0  48421.0"
      ]
     },
     "execution_count": 22,
     "metadata": {},
     "output_type": "execute_result"
    }
   ],
   "source": [
    "total"
   ]
  },
  {
   "cell_type": "markdown",
   "id": "c10dc1c3",
   "metadata": {},
   "source": [
    "## LASPEYRES Index Calculation $ \\therefore $\n",
    "\n",
    "$LASPEYRES\\ Index\\ Price \t\\rightarrow  L_p =\\frac {\\displaystyle\\sum_{i=1}^{n} p_2 q_1}{\\displaystyle\\sum_{i=1}^{n} p_1 q_1}    $\n",
    "\n",
    "$LASPEYRES\\ Index\\ Quantity \t\\rightarrow  \\rightarrow  \\rightarrow L_q =\\frac {\\displaystyle\\sum_{i=1}^{n} p_1 q_2}{\\displaystyle\\sum_{i=1}^{n} p_1 q_1}    $\n",
    "\n",
    "$LASPEYRES\\ Index\\ Total (p*q = v (value) \\rightarrow  \\rightarrow \\rightarrow L_v =\\frac {\\displaystyle\\sum_{i=1}^{n} p_2 q_2}{\\displaystyle\\sum_{i=1}^{n} p_1 q_1}    $\n",
    "\n"
   ]
  },
  {
   "cell_type": "code",
   "execution_count": 23,
   "id": "50bb36f3",
   "metadata": {},
   "outputs": [],
   "source": [
    "L𝑝 = df.iloc[-1:]['p2*q1'][0]/df.iloc[-1:]['p1*q1'][0]"
   ]
  },
  {
   "cell_type": "code",
   "execution_count": 24,
   "id": "0c1bd44f",
   "metadata": {},
   "outputs": [],
   "source": [
    "L𝑞 =  df.iloc[-1:]['p1*q2'][0]/df.iloc[-1:]['p1*q1'][0]"
   ]
  },
  {
   "cell_type": "code",
   "execution_count": 25,
   "id": "0a0d9e2c",
   "metadata": {},
   "outputs": [],
   "source": [
    "L𝑣 =  df.iloc[-1:]['p2*q2'][0]/df.iloc[-1:]['p1*q1'][0]"
   ]
  },
  {
   "cell_type": "code",
   "execution_count": 26,
   "id": "a3711320",
   "metadata": {},
   "outputs": [
    {
     "name": "stdout",
     "output_type": "stream",
     "text": [
      "L𝑝 = 1.0824 %\n",
      "L𝑞 = 1.1423 %\n",
      "L𝑣 = 1.2212 %\n"
     ]
    }
   ],
   "source": [
    "print(f'L𝑝 = {L𝑝:.4f} %')\n",
    "print(f'L𝑞 = {L𝑞:.4f} %')\n",
    "print(f'L𝑣 = {L𝑣:.4f} %') "
   ]
  },
  {
   "cell_type": "code",
   "execution_count": 27,
   "id": "bc91c059",
   "metadata": {},
   "outputs": [
    {
     "name": "stdout",
     "output_type": "stream",
     "text": [
      "This answer implies that  of the commodities have been modified for 2014-2015 period by:\n",
      "  1 - the prices      108.24% \n",
      "  2 - the quantities  114.23% \n",
      "  3 - the volume      122.12%   \n",
      "In accordance with the index of LASPEYRES.\n"
     ]
    }
   ],
   "source": [
    "print(f'This answer implies that  of the commodities have been modified for {y2}-{y1} period by:')\n",
    "print(f'  1 - the prices      {L𝑝*100:.2f}% ')\n",
    "print(f'  2 - the quantities  {Lq*100:.2f}% ')\n",
    "print(f'  3 - the volume      {Lv*100:.2f}%   \\nIn accordance with the index of LASPEYRES.')"
   ]
  },
  {
   "cell_type": "code",
   "execution_count": 28,
   "id": "7ad830b8",
   "metadata": {},
   "outputs": [
    {
     "name": "stdout",
     "output_type": "stream",
     "text": [
      "That's it! Thank you!\n"
     ]
    }
   ],
   "source": [
    "print(\"That's it! Thank you!\")"
   ]
  }
 ],
 "metadata": {
  "kernelspec": {
   "display_name": "Python 3 (ipykernel)",
   "language": "python",
   "name": "python3"
  },
  "language_info": {
   "codemirror_mode": {
    "name": "ipython",
    "version": 3
   },
   "file_extension": ".py",
   "mimetype": "text/x-python",
   "name": "python",
   "nbconvert_exporter": "python",
   "pygments_lexer": "ipython3",
   "version": "3.9.7"
  }
 },
 "nbformat": 4,
 "nbformat_minor": 5
}
