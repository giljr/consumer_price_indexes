{
 "cells": [
  {
   "cell_type": "markdown",
   "id": "c891eab6",
   "metadata": {},
   "source": [
    "## BRADSTREET INDEX\n",
    "\n",
    "### Formula to Calculate CPI for a single item\n",
    "\n",
    " CPI for a single item can be calculated using following formula:\n",
    " \n",
    "$ { CPI\\ of\\ the\\ current\\  = \\frac  {Current\\ Price\\ of\\ The\\ Item}{Price\\ of\\ The\\ Base\\ Year} * 100} $\n",
    "\n"
   ]
  },
  {
   "cell_type": "markdown",
   "id": "2555a8c6",
   "metadata": {},
   "source": [
    "#### Problem 1 -  CPI for a Single Item\n",
    "\n",
    "If, in 2014, a car cost R$ 35,900.00 and, in 2015, the price of this car was 42,900.00, what is the relative price (rp) of the car, considering 2014 as the base date?"
   ]
  },
  {
   "cell_type": "code",
   "execution_count": 1,
   "id": "0db44e1c",
   "metadata": {},
   "outputs": [
    {
     "name": "stdout",
     "output_type": "stream",
     "text": [
      "rp = 119.50\n",
      "This answer implies that the prices of the car have been increased by 19.50% from 2014 to 2015.\n"
     ]
    }
   ],
   "source": [
    "# Consider the base year as 2015.\n",
    "\n",
    "# Current year (Base)\n",
    "y1 = 2015 \n",
    "p1=35900\n",
    "\n",
    "# Last year\n",
    "y2 = 2014\n",
    "p2=42900\n",
    "\n",
    "rp = p2/p1*100\n",
    "print(f'rp = {rp:.2f}')\n",
    "print(f'This answer implies that the prices of the car have been increased by {rp-100:.2f}% from {y2} to {y1}.')\n"
   ]
  },
  {
   "cell_type": "markdown",
   "id": "aaeebef8",
   "metadata": {},
   "source": [
    "\n",
    "The relative works for only one item. Now what if we have more than one item?"
   ]
  },
  {
   "cell_type": "markdown",
   "id": "60426ddc",
   "metadata": {},
   "source": [
    "#### Problem 2 - CPI for a basket of commodities \n",
    "(use excel datasheet below)"
   ]
  },
  {
   "cell_type": "code",
   "execution_count": 2,
   "id": "5632e6e7",
   "metadata": {},
   "outputs": [
    {
     "data": {
      "text/html": [
       "<div>\n",
       "<style scoped>\n",
       "    .dataframe tbody tr th:only-of-type {\n",
       "        vertical-align: middle;\n",
       "    }\n",
       "\n",
       "    .dataframe tbody tr th {\n",
       "        vertical-align: top;\n",
       "    }\n",
       "\n",
       "    .dataframe thead th {\n",
       "        text-align: right;\n",
       "    }\n",
       "</style>\n",
       "<table border=\"1\" class=\"dataframe\">\n",
       "  <thead>\n",
       "    <tr style=\"text-align: right;\">\n",
       "      <th></th>\n",
       "      <th>Product</th>\n",
       "      <th>p1</th>\n",
       "      <th>p2</th>\n",
       "      <th>q1</th>\n",
       "      <th>q2</th>\n",
       "    </tr>\n",
       "  </thead>\n",
       "  <tbody>\n",
       "    <tr>\n",
       "      <th>0</th>\n",
       "      <td>Basketball</td>\n",
       "      <td>49.9</td>\n",
       "      <td>59.9</td>\n",
       "      <td>100.0</td>\n",
       "      <td>80.0</td>\n",
       "    </tr>\n",
       "    <tr>\n",
       "      <th>1</th>\n",
       "      <td>Soccer Ball</td>\n",
       "      <td>62.0</td>\n",
       "      <td>59.9</td>\n",
       "      <td>230.0</td>\n",
       "      <td>310.0</td>\n",
       "    </tr>\n",
       "    <tr>\n",
       "      <th>2</th>\n",
       "      <td>Football shoes</td>\n",
       "      <td>120.0</td>\n",
       "      <td>135.0</td>\n",
       "      <td>130.0</td>\n",
       "      <td>140.0</td>\n",
       "    </tr>\n",
       "    <tr>\n",
       "      <th>3</th>\n",
       "      <td>Tennis Racquets</td>\n",
       "      <td>240.0</td>\n",
       "      <td>280.0</td>\n",
       "      <td>20.0</td>\n",
       "      <td>22.0</td>\n",
       "    </tr>\n",
       "  </tbody>\n",
       "</table>\n",
       "</div>"
      ],
      "text/plain": [
       "           Product     p1     p2     q1     q2\n",
       "0       Basketball   49.9   59.9  100.0   80.0\n",
       "1      Soccer Ball   62.0   59.9  230.0  310.0\n",
       "2   Football shoes  120.0  135.0  130.0  140.0\n",
       "3  Tennis Racquets  240.0  280.0   20.0   22.0"
      ]
     },
     "execution_count": 2,
     "metadata": {},
     "output_type": "execute_result"
    }
   ],
   "source": [
    "import pandas as pd\n",
    "\n",
    "df = pd.read_excel('00_commodities_basket.xlsx')\n",
    "#df.info()\n",
    "df"
   ]
  },
  {
   "cell_type": "code",
   "execution_count": 3,
   "id": "5a5295cd",
   "metadata": {},
   "outputs": [
    {
     "data": {
      "text/plain": [
       "0         Basketball\n",
       "1        Soccer Ball\n",
       "2     Football shoes\n",
       "3    Tennis Racquets\n",
       "Name: Product, dtype: object"
      ]
     },
     "metadata": {},
     "output_type": "display_data"
    }
   ],
   "source": [
    "display(df['Product']) "
   ]
  },
  {
   "cell_type": "code",
   "execution_count": 4,
   "id": "82480a68",
   "metadata": {},
   "outputs": [
    {
     "data": {
      "text/plain": [
       "'Basketball'"
      ]
     },
     "execution_count": 4,
     "metadata": {},
     "output_type": "execute_result"
    }
   ],
   "source": [
    "df['Product'][0]"
   ]
  },
  {
   "cell_type": "code",
   "execution_count": 5,
   "id": "33d1dc6e",
   "metadata": {},
   "outputs": [
    {
     "data": {
      "text/plain": [
       "49.9"
      ]
     },
     "execution_count": 5,
     "metadata": {},
     "output_type": "execute_result"
    }
   ],
   "source": [
    "df.loc[0, 'p1']"
   ]
  },
  {
   "cell_type": "code",
   "execution_count": 6,
   "id": "3697582a",
   "metadata": {},
   "outputs": [
    {
     "data": {
      "text/plain": [
       "'Soccer Ball'"
      ]
     },
     "execution_count": 6,
     "metadata": {},
     "output_type": "execute_result"
    }
   ],
   "source": [
    "df['Product'][1]"
   ]
  },
  {
   "cell_type": "code",
   "execution_count": 7,
   "id": "110cb00d",
   "metadata": {},
   "outputs": [
    {
     "data": {
      "text/plain": [
       "62.0"
      ]
     },
     "execution_count": 7,
     "metadata": {},
     "output_type": "execute_result"
    }
   ],
   "source": [
    "df.loc[1, 'p1']"
   ]
  },
  {
   "cell_type": "code",
   "execution_count": 8,
   "id": "a711e430",
   "metadata": {},
   "outputs": [],
   "source": [
    "df['p1*q1'] = df['p1']*df['q1']"
   ]
  },
  {
   "cell_type": "code",
   "execution_count": 9,
   "id": "e94f34c2",
   "metadata": {},
   "outputs": [],
   "source": [
    "df['p2*q2'] = df['p2']*df['q2']"
   ]
  },
  {
   "cell_type": "code",
   "execution_count": 10,
   "id": "8a457a76",
   "metadata": {},
   "outputs": [
    {
     "data": {
      "text/html": [
       "<div>\n",
       "<style scoped>\n",
       "    .dataframe tbody tr th:only-of-type {\n",
       "        vertical-align: middle;\n",
       "    }\n",
       "\n",
       "    .dataframe tbody tr th {\n",
       "        vertical-align: top;\n",
       "    }\n",
       "\n",
       "    .dataframe thead th {\n",
       "        text-align: right;\n",
       "    }\n",
       "</style>\n",
       "<table border=\"1\" class=\"dataframe\">\n",
       "  <thead>\n",
       "    <tr style=\"text-align: right;\">\n",
       "      <th></th>\n",
       "      <th>Product</th>\n",
       "      <th>p1</th>\n",
       "      <th>p2</th>\n",
       "      <th>q1</th>\n",
       "      <th>q2</th>\n",
       "      <th>p1*q1</th>\n",
       "      <th>p2*q2</th>\n",
       "    </tr>\n",
       "  </thead>\n",
       "  <tbody>\n",
       "    <tr>\n",
       "      <th>0</th>\n",
       "      <td>Basketball</td>\n",
       "      <td>49.9</td>\n",
       "      <td>59.9</td>\n",
       "      <td>100.0</td>\n",
       "      <td>80.0</td>\n",
       "      <td>4990.0</td>\n",
       "      <td>4792.0</td>\n",
       "    </tr>\n",
       "    <tr>\n",
       "      <th>1</th>\n",
       "      <td>Soccer Ball</td>\n",
       "      <td>62.0</td>\n",
       "      <td>59.9</td>\n",
       "      <td>230.0</td>\n",
       "      <td>310.0</td>\n",
       "      <td>14260.0</td>\n",
       "      <td>18569.0</td>\n",
       "    </tr>\n",
       "    <tr>\n",
       "      <th>2</th>\n",
       "      <td>Football shoes</td>\n",
       "      <td>120.0</td>\n",
       "      <td>135.0</td>\n",
       "      <td>130.0</td>\n",
       "      <td>140.0</td>\n",
       "      <td>15600.0</td>\n",
       "      <td>18900.0</td>\n",
       "    </tr>\n",
       "    <tr>\n",
       "      <th>3</th>\n",
       "      <td>Tennis Racquets</td>\n",
       "      <td>240.0</td>\n",
       "      <td>280.0</td>\n",
       "      <td>20.0</td>\n",
       "      <td>22.0</td>\n",
       "      <td>4800.0</td>\n",
       "      <td>6160.0</td>\n",
       "    </tr>\n",
       "  </tbody>\n",
       "</table>\n",
       "</div>"
      ],
      "text/plain": [
       "           Product     p1     p2     q1     q2    p1*q1    p2*q2\n",
       "0       Basketball   49.9   59.9  100.0   80.0   4990.0   4792.0\n",
       "1      Soccer Ball   62.0   59.9  230.0  310.0  14260.0  18569.0\n",
       "2   Football shoes  120.0  135.0  130.0  140.0  15600.0  18900.0\n",
       "3  Tennis Racquets  240.0  280.0   20.0   22.0   4800.0   6160.0"
      ]
     },
     "execution_count": 10,
     "metadata": {},
     "output_type": "execute_result"
    }
   ],
   "source": [
    "df"
   ]
  },
  {
   "cell_type": "code",
   "execution_count": 11,
   "id": "1ecc4b41",
   "metadata": {},
   "outputs": [],
   "source": [
    "total = df.sum()"
   ]
  },
  {
   "cell_type": "code",
   "execution_count": 12,
   "id": "14f9e66a",
   "metadata": {},
   "outputs": [],
   "source": [
    "# How to Add or Insert Row to Pandas DataFrame?\n",
    "# https://pythonexamples.org/pandas-dataframe-add-append-row/\n",
    "\n",
    "new_row = pd.Series(data=total, name='Total')"
   ]
  },
  {
   "cell_type": "code",
   "execution_count": 13,
   "id": "df5964ec",
   "metadata": {},
   "outputs": [],
   "source": [
    "df = df.append(new_row, ignore_index=False)"
   ]
  },
  {
   "cell_type": "code",
   "execution_count": 14,
   "id": "d99bb744",
   "metadata": {},
   "outputs": [],
   "source": [
    "df.loc['Total', 'Product'] = \" ------- \""
   ]
  },
  {
   "cell_type": "code",
   "execution_count": 15,
   "id": "4999997f",
   "metadata": {},
   "outputs": [
    {
     "data": {
      "text/html": [
       "<div>\n",
       "<style scoped>\n",
       "    .dataframe tbody tr th:only-of-type {\n",
       "        vertical-align: middle;\n",
       "    }\n",
       "\n",
       "    .dataframe tbody tr th {\n",
       "        vertical-align: top;\n",
       "    }\n",
       "\n",
       "    .dataframe thead th {\n",
       "        text-align: right;\n",
       "    }\n",
       "</style>\n",
       "<table border=\"1\" class=\"dataframe\">\n",
       "  <thead>\n",
       "    <tr style=\"text-align: right;\">\n",
       "      <th></th>\n",
       "      <th>Product</th>\n",
       "      <th>p1</th>\n",
       "      <th>p2</th>\n",
       "      <th>q1</th>\n",
       "      <th>q2</th>\n",
       "      <th>p1*q1</th>\n",
       "      <th>p2*q2</th>\n",
       "    </tr>\n",
       "  </thead>\n",
       "  <tbody>\n",
       "    <tr>\n",
       "      <th>0</th>\n",
       "      <td>Basketball</td>\n",
       "      <td>49.9</td>\n",
       "      <td>59.9</td>\n",
       "      <td>100.0</td>\n",
       "      <td>80.0</td>\n",
       "      <td>4990.0</td>\n",
       "      <td>4792.0</td>\n",
       "    </tr>\n",
       "    <tr>\n",
       "      <th>1</th>\n",
       "      <td>Soccer Ball</td>\n",
       "      <td>62.0</td>\n",
       "      <td>59.9</td>\n",
       "      <td>230.0</td>\n",
       "      <td>310.0</td>\n",
       "      <td>14260.0</td>\n",
       "      <td>18569.0</td>\n",
       "    </tr>\n",
       "    <tr>\n",
       "      <th>2</th>\n",
       "      <td>Football shoes</td>\n",
       "      <td>120.0</td>\n",
       "      <td>135.0</td>\n",
       "      <td>130.0</td>\n",
       "      <td>140.0</td>\n",
       "      <td>15600.0</td>\n",
       "      <td>18900.0</td>\n",
       "    </tr>\n",
       "    <tr>\n",
       "      <th>3</th>\n",
       "      <td>Tennis Racquets</td>\n",
       "      <td>240.0</td>\n",
       "      <td>280.0</td>\n",
       "      <td>20.0</td>\n",
       "      <td>22.0</td>\n",
       "      <td>4800.0</td>\n",
       "      <td>6160.0</td>\n",
       "    </tr>\n",
       "    <tr>\n",
       "      <th>Total</th>\n",
       "      <td>-------</td>\n",
       "      <td>471.9</td>\n",
       "      <td>534.8</td>\n",
       "      <td>480.0</td>\n",
       "      <td>552.0</td>\n",
       "      <td>39650.0</td>\n",
       "      <td>48421.0</td>\n",
       "    </tr>\n",
       "  </tbody>\n",
       "</table>\n",
       "</div>"
      ],
      "text/plain": [
       "               Product     p1     p2     q1     q2    p1*q1    p2*q2\n",
       "0           Basketball   49.9   59.9  100.0   80.0   4990.0   4792.0\n",
       "1          Soccer Ball   62.0   59.9  230.0  310.0  14260.0  18569.0\n",
       "2       Football shoes  120.0  135.0  130.0  140.0  15600.0  18900.0\n",
       "3      Tennis Racquets  240.0  280.0   20.0   22.0   4800.0   6160.0\n",
       "Total         -------   471.9  534.8  480.0  552.0  39650.0  48421.0"
      ]
     },
     "execution_count": 15,
     "metadata": {},
     "output_type": "execute_result"
    }
   ],
   "source": [
    "# df = df.round(2)\n",
    "df"
   ]
  },
  {
   "cell_type": "code",
   "execution_count": 16,
   "id": "f8fab3c8",
   "metadata": {},
   "outputs": [],
   "source": [
    "total = df.iloc[-1:]"
   ]
  },
  {
   "cell_type": "code",
   "execution_count": 17,
   "id": "8c8e9142",
   "metadata": {},
   "outputs": [
    {
     "data": {
      "text/html": [
       "<div>\n",
       "<style scoped>\n",
       "    .dataframe tbody tr th:only-of-type {\n",
       "        vertical-align: middle;\n",
       "    }\n",
       "\n",
       "    .dataframe tbody tr th {\n",
       "        vertical-align: top;\n",
       "    }\n",
       "\n",
       "    .dataframe thead th {\n",
       "        text-align: right;\n",
       "    }\n",
       "</style>\n",
       "<table border=\"1\" class=\"dataframe\">\n",
       "  <thead>\n",
       "    <tr style=\"text-align: right;\">\n",
       "      <th></th>\n",
       "      <th>Product</th>\n",
       "      <th>p1</th>\n",
       "      <th>p2</th>\n",
       "      <th>q1</th>\n",
       "      <th>q2</th>\n",
       "      <th>p1*q1</th>\n",
       "      <th>p2*q2</th>\n",
       "    </tr>\n",
       "  </thead>\n",
       "  <tbody>\n",
       "    <tr>\n",
       "      <th>Total</th>\n",
       "      <td>-------</td>\n",
       "      <td>471.9</td>\n",
       "      <td>534.8</td>\n",
       "      <td>480.0</td>\n",
       "      <td>552.0</td>\n",
       "      <td>39650.0</td>\n",
       "      <td>48421.0</td>\n",
       "    </tr>\n",
       "  </tbody>\n",
       "</table>\n",
       "</div>"
      ],
      "text/plain": [
       "         Product     p1     p2     q1     q2    p1*q1    p2*q2\n",
       "Total   -------   471.9  534.8  480.0  552.0  39650.0  48421.0"
      ]
     },
     "execution_count": 17,
     "metadata": {},
     "output_type": "execute_result"
    }
   ],
   "source": [
    "# HowTo Convert values in pandas dataframe to two decimal points?\n",
    "# \n",
    "total"
   ]
  },
  {
   "cell_type": "code",
   "execution_count": 18,
   "id": "84f0ed0e",
   "metadata": {},
   "outputs": [],
   "source": [
    "# LaTeX/Mathematics \n",
    "# https://en.wikibooks.org/wiki/LaTeX/Mathematics"
   ]
  },
  {
   "cell_type": "markdown",
   "id": "5b6a742b",
   "metadata": {},
   "source": [
    "## Bradstreet Index Calculation $ \\therefore $\n",
    "\n",
    "$Bradstreet\\ Index\\ Price \t\\rightarrow  B_p =\\frac {\\displaystyle\\sum_{i=1}^{n} p_2}{\\displaystyle\\sum_{i=1}^{n} p_1}    $\n",
    "\n",
    "$Bradstreet\\ Index\\ Quantity \t\\rightarrow  \\rightarrow  \\rightarrow B_q =\\frac {\\displaystyle\\sum_{i=1}^{n} q_2}{\\displaystyle\\sum_{i=1}^{n}q_1}    $\n",
    "\n",
    "$Bradstreet\\ Index\\ Total (p*q = v (value) \\rightarrow  \\rightarrow \\rightarrow B_x =\\frac {\\displaystyle\\sum_{i=1}^{n} v_2}{\\displaystyle\\sum_{i=1}^{n} v_1}    $\n",
    "\n"
   ]
  },
  {
   "cell_type": "code",
   "execution_count": 19,
   "id": "72b43f64",
   "metadata": {},
   "outputs": [],
   "source": [
    "𝐵𝑝 = df.iloc[-1:]['p2'][0]/df.iloc[-1:]['p1'][0]*100"
   ]
  },
  {
   "cell_type": "code",
   "execution_count": 20,
   "id": "1ee21bcf",
   "metadata": {},
   "outputs": [],
   "source": [
    "𝐵𝑞 = df.iloc[-1:]['q2'][0]/df.iloc[-1:]['q1'][0]*100"
   ]
  },
  {
   "cell_type": "code",
   "execution_count": 21,
   "id": "e0b1d976",
   "metadata": {},
   "outputs": [],
   "source": [
    "𝐵𝑣 = df.iloc[-1:]['p2*q2'][0]/df.iloc[-1:]['p1*q1'][0]*100"
   ]
  },
  {
   "cell_type": "code",
   "execution_count": 22,
   "id": "701a2a20",
   "metadata": {},
   "outputs": [
    {
     "name": "stdout",
     "output_type": "stream",
     "text": [
      "𝐵𝑝 = 113.3291 %\n",
      "𝐵𝑞 = 115.0000 %\n",
      "𝐵𝑣 = 122.1211 %\n"
     ]
    }
   ],
   "source": [
    "print(f'𝐵𝑝 = {𝐵𝑝:.4f} %')\n",
    "print(f'𝐵𝑞 = {𝐵𝑞:.4f} %')\n",
    "print(f'𝐵𝑣 = {𝐵𝑣:.4f} %') "
   ]
  },
  {
   "cell_type": "code",
   "execution_count": 23,
   "id": "0fa79b31",
   "metadata": {},
   "outputs": [
    {
     "name": "stdout",
     "output_type": "stream",
     "text": [
      "This answer implies that  of the commodities have been modified for 2014-2015 period by:\n",
      "  1 - the prices      13.33% \n",
      "  2 - the quantities  15.00% \n",
      "  3 - the volume      22.12%   \n",
      "In accordance with the index of Bradstreet.\n"
     ]
    }
   ],
   "source": [
    "print(f'This answer implies that  of the commodities have been modified for {y2}-{y1} period by:')\n",
    "print(f'  1 - the prices      {𝐵𝑝-100:.2f}% ')\n",
    "print(f'  2 - the quantities  {𝐵q-100:.2f}% ')\n",
    "print(f'  3 - the volume      {𝐵v-100:.2f}%   \\nIn accordance with the index of Bradstreet.')"
   ]
  },
  {
   "cell_type": "code",
   "execution_count": 24,
   "id": "3936bafe",
   "metadata": {},
   "outputs": [
    {
     "name": "stdout",
     "output_type": "stream",
     "text": [
      "That's it! Thank you!\n"
     ]
    }
   ],
   "source": [
    "print(\"That's it! Thank you!\")"
   ]
  }
 ],
 "metadata": {
  "kernelspec": {
   "display_name": "Python 3 (ipykernel)",
   "language": "python",
   "name": "python3"
  },
  "language_info": {
   "codemirror_mode": {
    "name": "ipython",
    "version": 3
   },
   "file_extension": ".py",
   "mimetype": "text/x-python",
   "name": "python",
   "nbconvert_exporter": "python",
   "pygments_lexer": "ipython3",
   "version": "3.9.7"
  }
 },
 "nbformat": 4,
 "nbformat_minor": 5
}
