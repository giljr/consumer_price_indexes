{
 "cells": [
  {
   "cell_type": "markdown",
   "id": "c891eab6",
   "metadata": {},
   "source": [
    "## SAUERBECK INDEX - HARMONIC\n",
    "\n",
    "### Formula to Calculate CPI for a single item\n",
    "\n",
    " CPI for a single item can be calculated using following formula:\n",
    " \n",
    "$ { CPI\\ of\\ the\\ current\\  = \\frac  {Current\\ Price\\ of\\ The\\ Item}{Price\\ of\\ The\\ Base\\ Year} * 100} $\n",
    "\n"
   ]
  },
  {
   "cell_type": "code",
   "execution_count": 1,
   "id": "0db44e1c",
   "metadata": {},
   "outputs": [],
   "source": [
    "# Consider the base year as 2015.\n",
    "\n",
    "# Current year (Base)\n",
    "y1 = 2015 \n",
    "\n",
    "\n",
    "# Last year\n",
    "y2 = 2014\n"
   ]
  },
  {
   "cell_type": "markdown",
   "id": "151b69db",
   "metadata": {},
   "source": [
    "#### Problem 1 - CPI for a basket of commodities \n",
    "(use excel datasheet below)"
   ]
  },
  {
   "cell_type": "code",
   "execution_count": 2,
   "id": "5632e6e7",
   "metadata": {},
   "outputs": [
    {
     "data": {
      "text/html": [
       "<div>\n",
       "<style scoped>\n",
       "    .dataframe tbody tr th:only-of-type {\n",
       "        vertical-align: middle;\n",
       "    }\n",
       "\n",
       "    .dataframe tbody tr th {\n",
       "        vertical-align: top;\n",
       "    }\n",
       "\n",
       "    .dataframe thead th {\n",
       "        text-align: right;\n",
       "    }\n",
       "</style>\n",
       "<table border=\"1\" class=\"dataframe\">\n",
       "  <thead>\n",
       "    <tr style=\"text-align: right;\">\n",
       "      <th></th>\n",
       "      <th>Product</th>\n",
       "      <th>p1</th>\n",
       "      <th>p2</th>\n",
       "      <th>q1</th>\n",
       "      <th>q2</th>\n",
       "    </tr>\n",
       "  </thead>\n",
       "  <tbody>\n",
       "    <tr>\n",
       "      <th>0</th>\n",
       "      <td>Basketball</td>\n",
       "      <td>49.9</td>\n",
       "      <td>59.9</td>\n",
       "      <td>100.0</td>\n",
       "      <td>80.0</td>\n",
       "    </tr>\n",
       "    <tr>\n",
       "      <th>1</th>\n",
       "      <td>Soccer Ball</td>\n",
       "      <td>62.0</td>\n",
       "      <td>59.9</td>\n",
       "      <td>230.0</td>\n",
       "      <td>310.0</td>\n",
       "    </tr>\n",
       "    <tr>\n",
       "      <th>2</th>\n",
       "      <td>Football shoes</td>\n",
       "      <td>120.0</td>\n",
       "      <td>135.0</td>\n",
       "      <td>130.0</td>\n",
       "      <td>140.0</td>\n",
       "    </tr>\n",
       "    <tr>\n",
       "      <th>3</th>\n",
       "      <td>Tennis Racquets</td>\n",
       "      <td>240.0</td>\n",
       "      <td>280.0</td>\n",
       "      <td>20.0</td>\n",
       "      <td>22.0</td>\n",
       "    </tr>\n",
       "  </tbody>\n",
       "</table>\n",
       "</div>"
      ],
      "text/plain": [
       "           Product     p1     p2     q1     q2\n",
       "0       Basketball   49.9   59.9  100.0   80.0\n",
       "1      Soccer Ball   62.0   59.9  230.0  310.0\n",
       "2   Football shoes  120.0  135.0  130.0  140.0\n",
       "3  Tennis Racquets  240.0  280.0   20.0   22.0"
      ]
     },
     "execution_count": 2,
     "metadata": {},
     "output_type": "execute_result"
    }
   ],
   "source": [
    "import pandas as pd\n",
    "\n",
    "df = pd.read_excel('00_commodities_basket.xlsx')\n",
    "#df.info()\n",
    "df"
   ]
  },
  {
   "cell_type": "code",
   "execution_count": 3,
   "id": "5a5295cd",
   "metadata": {},
   "outputs": [
    {
     "data": {
      "text/plain": [
       "0         Basketball\n",
       "1        Soccer Ball\n",
       "2     Football shoes\n",
       "3    Tennis Racquets\n",
       "Name: Product, dtype: object"
      ]
     },
     "metadata": {},
     "output_type": "display_data"
    }
   ],
   "source": [
    "display(df['Product']) "
   ]
  },
  {
   "cell_type": "code",
   "execution_count": 4,
   "id": "a1f28f2e",
   "metadata": {},
   "outputs": [
    {
     "data": {
      "text/plain": [
       "'Basketball'"
      ]
     },
     "execution_count": 4,
     "metadata": {},
     "output_type": "execute_result"
    }
   ],
   "source": [
    "df['Product'][0]"
   ]
  },
  {
   "cell_type": "code",
   "execution_count": 5,
   "id": "3701629c",
   "metadata": {},
   "outputs": [
    {
     "data": {
      "text/plain": [
       "49.9"
      ]
     },
     "execution_count": 5,
     "metadata": {},
     "output_type": "execute_result"
    }
   ],
   "source": [
    "df.loc[0, 'p1']"
   ]
  },
  {
   "cell_type": "code",
   "execution_count": 6,
   "id": "2237f0f0",
   "metadata": {},
   "outputs": [
    {
     "data": {
      "text/plain": [
       "'Soccer Ball'"
      ]
     },
     "execution_count": 6,
     "metadata": {},
     "output_type": "execute_result"
    }
   ],
   "source": [
    "df['Product'][1]"
   ]
  },
  {
   "cell_type": "code",
   "execution_count": 7,
   "id": "1f58061c",
   "metadata": {},
   "outputs": [
    {
     "data": {
      "text/plain": [
       "62.0"
      ]
     },
     "execution_count": 7,
     "metadata": {},
     "output_type": "execute_result"
    }
   ],
   "source": [
    "df.loc[1, 'p1']"
   ]
  },
  {
   "cell_type": "code",
   "execution_count": 8,
   "id": "d17eff4d",
   "metadata": {},
   "outputs": [],
   "source": [
    "df['p1*q1'] = df['p1']*df['q1']"
   ]
  },
  {
   "cell_type": "code",
   "execution_count": 9,
   "id": "dc631fce",
   "metadata": {},
   "outputs": [],
   "source": [
    "df['p2*q2'] = df['p2']*df['q2']"
   ]
  },
  {
   "cell_type": "code",
   "execution_count": 10,
   "id": "e1832bff",
   "metadata": {},
   "outputs": [
    {
     "data": {
      "text/html": [
       "<div>\n",
       "<style scoped>\n",
       "    .dataframe tbody tr th:only-of-type {\n",
       "        vertical-align: middle;\n",
       "    }\n",
       "\n",
       "    .dataframe tbody tr th {\n",
       "        vertical-align: top;\n",
       "    }\n",
       "\n",
       "    .dataframe thead th {\n",
       "        text-align: right;\n",
       "    }\n",
       "</style>\n",
       "<table border=\"1\" class=\"dataframe\">\n",
       "  <thead>\n",
       "    <tr style=\"text-align: right;\">\n",
       "      <th></th>\n",
       "      <th>Product</th>\n",
       "      <th>p1</th>\n",
       "      <th>p2</th>\n",
       "      <th>q1</th>\n",
       "      <th>q2</th>\n",
       "      <th>p1*q1</th>\n",
       "      <th>p2*q2</th>\n",
       "    </tr>\n",
       "  </thead>\n",
       "  <tbody>\n",
       "    <tr>\n",
       "      <th>0</th>\n",
       "      <td>Basketball</td>\n",
       "      <td>49.9</td>\n",
       "      <td>59.9</td>\n",
       "      <td>100.0</td>\n",
       "      <td>80.0</td>\n",
       "      <td>4990.0</td>\n",
       "      <td>4792.0</td>\n",
       "    </tr>\n",
       "    <tr>\n",
       "      <th>1</th>\n",
       "      <td>Soccer Ball</td>\n",
       "      <td>62.0</td>\n",
       "      <td>59.9</td>\n",
       "      <td>230.0</td>\n",
       "      <td>310.0</td>\n",
       "      <td>14260.0</td>\n",
       "      <td>18569.0</td>\n",
       "    </tr>\n",
       "    <tr>\n",
       "      <th>2</th>\n",
       "      <td>Football shoes</td>\n",
       "      <td>120.0</td>\n",
       "      <td>135.0</td>\n",
       "      <td>130.0</td>\n",
       "      <td>140.0</td>\n",
       "      <td>15600.0</td>\n",
       "      <td>18900.0</td>\n",
       "    </tr>\n",
       "    <tr>\n",
       "      <th>3</th>\n",
       "      <td>Tennis Racquets</td>\n",
       "      <td>240.0</td>\n",
       "      <td>280.0</td>\n",
       "      <td>20.0</td>\n",
       "      <td>22.0</td>\n",
       "      <td>4800.0</td>\n",
       "      <td>6160.0</td>\n",
       "    </tr>\n",
       "  </tbody>\n",
       "</table>\n",
       "</div>"
      ],
      "text/plain": [
       "           Product     p1     p2     q1     q2    p1*q1    p2*q2\n",
       "0       Basketball   49.9   59.9  100.0   80.0   4990.0   4792.0\n",
       "1      Soccer Ball   62.0   59.9  230.0  310.0  14260.0  18569.0\n",
       "2   Football shoes  120.0  135.0  130.0  140.0  15600.0  18900.0\n",
       "3  Tennis Racquets  240.0  280.0   20.0   22.0   4800.0   6160.0"
      ]
     },
     "execution_count": 10,
     "metadata": {},
     "output_type": "execute_result"
    }
   ],
   "source": [
    "df"
   ]
  },
  {
   "cell_type": "code",
   "execution_count": 11,
   "id": "c1f2bfe0",
   "metadata": {},
   "outputs": [],
   "source": [
    "df['rp'] = df['p1']/df['p2']\n",
    "df['rq'] = df['q1']/df['q2']\n",
    "df['rv'] = df['p1*q1']/df['p2*q2']\n"
   ]
  },
  {
   "cell_type": "code",
   "execution_count": 12,
   "id": "2ecaa3bd",
   "metadata": {},
   "outputs": [],
   "source": [
    "df.drop(['p1', 'p2', 'q1','q2','p1*q1', 'p2*q2'], axis=1, inplace=True)\n",
    "     "
   ]
  },
  {
   "cell_type": "code",
   "execution_count": 13,
   "id": "2c2d9a20",
   "metadata": {},
   "outputs": [
    {
     "data": {
      "text/html": [
       "<div>\n",
       "<style scoped>\n",
       "    .dataframe tbody tr th:only-of-type {\n",
       "        vertical-align: middle;\n",
       "    }\n",
       "\n",
       "    .dataframe tbody tr th {\n",
       "        vertical-align: top;\n",
       "    }\n",
       "\n",
       "    .dataframe thead th {\n",
       "        text-align: right;\n",
       "    }\n",
       "</style>\n",
       "<table border=\"1\" class=\"dataframe\">\n",
       "  <thead>\n",
       "    <tr style=\"text-align: right;\">\n",
       "      <th></th>\n",
       "      <th>Product</th>\n",
       "      <th>rp</th>\n",
       "      <th>rq</th>\n",
       "      <th>rv</th>\n",
       "    </tr>\n",
       "  </thead>\n",
       "  <tbody>\n",
       "    <tr>\n",
       "      <th>0</th>\n",
       "      <td>Basketball</td>\n",
       "      <td>0.833055</td>\n",
       "      <td>1.250000</td>\n",
       "      <td>1.041319</td>\n",
       "    </tr>\n",
       "    <tr>\n",
       "      <th>1</th>\n",
       "      <td>Soccer Ball</td>\n",
       "      <td>1.035058</td>\n",
       "      <td>0.741935</td>\n",
       "      <td>0.767947</td>\n",
       "    </tr>\n",
       "    <tr>\n",
       "      <th>2</th>\n",
       "      <td>Football shoes</td>\n",
       "      <td>0.888889</td>\n",
       "      <td>0.928571</td>\n",
       "      <td>0.825397</td>\n",
       "    </tr>\n",
       "    <tr>\n",
       "      <th>3</th>\n",
       "      <td>Tennis Racquets</td>\n",
       "      <td>0.857143</td>\n",
       "      <td>0.909091</td>\n",
       "      <td>0.779221</td>\n",
       "    </tr>\n",
       "  </tbody>\n",
       "</table>\n",
       "</div>"
      ],
      "text/plain": [
       "           Product        rp        rq        rv\n",
       "0       Basketball  0.833055  1.250000  1.041319\n",
       "1      Soccer Ball  1.035058  0.741935  0.767947\n",
       "2   Football shoes  0.888889  0.928571  0.825397\n",
       "3  Tennis Racquets  0.857143  0.909091  0.779221"
      ]
     },
     "execution_count": 13,
     "metadata": {},
     "output_type": "execute_result"
    }
   ],
   "source": [
    "df"
   ]
  },
  {
   "cell_type": "code",
   "execution_count": 14,
   "id": "85eacb1f",
   "metadata": {},
   "outputs": [
    {
     "data": {
      "text/plain": [
       "4"
      ]
     },
     "execution_count": 14,
     "metadata": {},
     "output_type": "execute_result"
    }
   ],
   "source": [
    "count_rows = df.shape[0]\n",
    "count_rows"
   ]
  },
  {
   "cell_type": "code",
   "execution_count": 15,
   "id": "c6bf189e",
   "metadata": {},
   "outputs": [],
   "source": [
    "total = df.sum()"
   ]
  },
  {
   "cell_type": "code",
   "execution_count": 16,
   "id": "cf814b56",
   "metadata": {},
   "outputs": [],
   "source": [
    "new_row = pd.Series(data=total, name='Total')"
   ]
  },
  {
   "cell_type": "code",
   "execution_count": 17,
   "id": "7e243b6f",
   "metadata": {},
   "outputs": [],
   "source": [
    "df = df.append(new_row, ignore_index=False)"
   ]
  },
  {
   "cell_type": "code",
   "execution_count": 18,
   "id": "56e4a1ba",
   "metadata": {},
   "outputs": [],
   "source": [
    "df.loc['Total', 'Product'] = \" ------- \""
   ]
  },
  {
   "cell_type": "code",
   "execution_count": 19,
   "id": "86ff3184",
   "metadata": {},
   "outputs": [
    {
     "data": {
      "text/html": [
       "<div>\n",
       "<style scoped>\n",
       "    .dataframe tbody tr th:only-of-type {\n",
       "        vertical-align: middle;\n",
       "    }\n",
       "\n",
       "    .dataframe tbody tr th {\n",
       "        vertical-align: top;\n",
       "    }\n",
       "\n",
       "    .dataframe thead th {\n",
       "        text-align: right;\n",
       "    }\n",
       "</style>\n",
       "<table border=\"1\" class=\"dataframe\">\n",
       "  <thead>\n",
       "    <tr style=\"text-align: right;\">\n",
       "      <th></th>\n",
       "      <th>Product</th>\n",
       "      <th>rp</th>\n",
       "      <th>rq</th>\n",
       "      <th>rv</th>\n",
       "    </tr>\n",
       "  </thead>\n",
       "  <tbody>\n",
       "    <tr>\n",
       "      <th>0</th>\n",
       "      <td>Basketball</td>\n",
       "      <td>0.833055</td>\n",
       "      <td>1.250000</td>\n",
       "      <td>1.041319</td>\n",
       "    </tr>\n",
       "    <tr>\n",
       "      <th>1</th>\n",
       "      <td>Soccer Ball</td>\n",
       "      <td>1.035058</td>\n",
       "      <td>0.741935</td>\n",
       "      <td>0.767947</td>\n",
       "    </tr>\n",
       "    <tr>\n",
       "      <th>2</th>\n",
       "      <td>Football shoes</td>\n",
       "      <td>0.888889</td>\n",
       "      <td>0.928571</td>\n",
       "      <td>0.825397</td>\n",
       "    </tr>\n",
       "    <tr>\n",
       "      <th>3</th>\n",
       "      <td>Tennis Racquets</td>\n",
       "      <td>0.857143</td>\n",
       "      <td>0.909091</td>\n",
       "      <td>0.779221</td>\n",
       "    </tr>\n",
       "    <tr>\n",
       "      <th>Total</th>\n",
       "      <td>-------</td>\n",
       "      <td>3.614145</td>\n",
       "      <td>3.829598</td>\n",
       "      <td>3.413883</td>\n",
       "    </tr>\n",
       "  </tbody>\n",
       "</table>\n",
       "</div>"
      ],
      "text/plain": [
       "               Product        rp        rq        rv\n",
       "0           Basketball  0.833055  1.250000  1.041319\n",
       "1          Soccer Ball  1.035058  0.741935  0.767947\n",
       "2       Football shoes  0.888889  0.928571  0.825397\n",
       "3      Tennis Racquets  0.857143  0.909091  0.779221\n",
       "Total         -------   3.614145  3.829598  3.413883"
      ]
     },
     "execution_count": 19,
     "metadata": {},
     "output_type": "execute_result"
    }
   ],
   "source": [
    "#df = df.round(2)\n",
    "df"
   ]
  },
  {
   "cell_type": "code",
   "execution_count": 20,
   "id": "582d3a65",
   "metadata": {},
   "outputs": [],
   "source": [
    "total = df.iloc[-1:]"
   ]
  },
  {
   "cell_type": "code",
   "execution_count": 21,
   "id": "7ddbc3a5",
   "metadata": {},
   "outputs": [
    {
     "data": {
      "text/html": [
       "<div>\n",
       "<style scoped>\n",
       "    .dataframe tbody tr th:only-of-type {\n",
       "        vertical-align: middle;\n",
       "    }\n",
       "\n",
       "    .dataframe tbody tr th {\n",
       "        vertical-align: top;\n",
       "    }\n",
       "\n",
       "    .dataframe thead th {\n",
       "        text-align: right;\n",
       "    }\n",
       "</style>\n",
       "<table border=\"1\" class=\"dataframe\">\n",
       "  <thead>\n",
       "    <tr style=\"text-align: right;\">\n",
       "      <th></th>\n",
       "      <th>Product</th>\n",
       "      <th>rp</th>\n",
       "      <th>rq</th>\n",
       "      <th>rv</th>\n",
       "    </tr>\n",
       "  </thead>\n",
       "  <tbody>\n",
       "    <tr>\n",
       "      <th>Total</th>\n",
       "      <td>-------</td>\n",
       "      <td>3.614145</td>\n",
       "      <td>3.829598</td>\n",
       "      <td>3.413883</td>\n",
       "    </tr>\n",
       "  </tbody>\n",
       "</table>\n",
       "</div>"
      ],
      "text/plain": [
       "         Product        rp        rq        rv\n",
       "Total   -------   3.614145  3.829598  3.413883"
      ]
     },
     "execution_count": 21,
     "metadata": {},
     "output_type": "execute_result"
    }
   ],
   "source": [
    "total"
   ]
  },
  {
   "cell_type": "markdown",
   "id": "c10dc1c3",
   "metadata": {},
   "source": [
    "## SAUERBECK (Harmonic) Index Calculation $ \\therefore $\n",
    "\n",
    "$SAUERBECK\\ Index\\ Price \t\\rightarrow  S_p^H =\\frac {n}{\\displaystyle\\sum_{i=1}^{n} r_p}    $\n",
    "\n",
    "$SAUERBECK\\ Index\\ Quantity \t\\rightarrow  \\rightarrow  \\rightarrow S_q^H =\\frac {n}{\\displaystyle\\sum_{i=1}^{n} r_q}    $\n",
    "\n",
    "$SAUERBECK\\ Index\\ Total (p*q = v (value) \\rightarrow  \\rightarrow \\rightarrow S_x^H =\\frac {n}{\\displaystyle\\sum_{i=1}^{n} r_v}    $\n",
    "\n"
   ]
  },
  {
   "cell_type": "code",
   "execution_count": 22,
   "id": "50bb36f3",
   "metadata": {},
   "outputs": [],
   "source": [
    "S𝑝 = count_rows*100/df.iloc[-1:]['rp'][0]"
   ]
  },
  {
   "cell_type": "code",
   "execution_count": 23,
   "id": "0c1bd44f",
   "metadata": {},
   "outputs": [],
   "source": [
    "S𝑞 = count_rows*100/df.iloc[-1:]['rq'][0]"
   ]
  },
  {
   "cell_type": "code",
   "execution_count": 24,
   "id": "0a0d9e2c",
   "metadata": {},
   "outputs": [],
   "source": [
    "S𝑣 = count_rows*100/df.iloc[-1:]['rv'][0]"
   ]
  },
  {
   "cell_type": "code",
   "execution_count": 25,
   "id": "a3711320",
   "metadata": {},
   "outputs": [
    {
     "name": "stdout",
     "output_type": "stream",
     "text": [
      "S𝑝 = 110.6762 %\n",
      "S𝑞 = 104.4496 %\n",
      "S𝑣 = 117.1686 %\n"
     ]
    }
   ],
   "source": [
    "print(f'S𝑝 = {S𝑝:.4f} %')\n",
    "print(f'S𝑞 = {S𝑞:.4f} %')\n",
    "print(f'S𝑣 = {S𝑣:.4f} %') "
   ]
  },
  {
   "cell_type": "code",
   "execution_count": null,
   "id": "ca2e419e",
   "metadata": {},
   "outputs": [],
   "source": []
  },
  {
   "cell_type": "code",
   "execution_count": 26,
   "id": "bc91c059",
   "metadata": {},
   "outputs": [
    {
     "name": "stdout",
     "output_type": "stream",
     "text": [
      "This answer implies that  of the commodities have been modified for 2014-2015 period by:\n",
      "  1 - the prices      10.68% \n",
      "  2 - the quantities  4.45% \n",
      "  3 - the volume      17.17%   \n",
      "In accordance with the index of SAUERBECK (Harmonic).\n"
     ]
    }
   ],
   "source": [
    "print(f'This answer implies that  of the commodities have been modified for {y2}-{y1} period by:')\n",
    "print(f'  1 - the prices      {S𝑝-100:.2f}% ')\n",
    "print(f'  2 - the quantities  {Sq-100:.2f}% ')\n",
    "print(f'  3 - the volume      {Sv-100:.2f}%   \\nIn accordance with the index of SAUERBECK (Harmonic).')"
   ]
  },
  {
   "cell_type": "code",
   "execution_count": 27,
   "id": "7ad830b8",
   "metadata": {},
   "outputs": [
    {
     "name": "stdout",
     "output_type": "stream",
     "text": [
      "That's it! Thank you!\n"
     ]
    }
   ],
   "source": [
    "print(\"That's it! Thank you!\")"
   ]
  }
 ],
 "metadata": {
  "kernelspec": {
   "display_name": "Python 3 (ipykernel)",
   "language": "python",
   "name": "python3"
  },
  "language_info": {
   "codemirror_mode": {
    "name": "ipython",
    "version": 3
   },
   "file_extension": ".py",
   "mimetype": "text/x-python",
   "name": "python",
   "nbconvert_exporter": "python",
   "pygments_lexer": "ipython3",
   "version": "3.9.7"
  }
 },
 "nbformat": 4,
 "nbformat_minor": 5
}
